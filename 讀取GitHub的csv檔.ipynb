{
  "nbformat": 4,
  "nbformat_minor": 0,
  "metadata": {
    "colab": {
      "provenance": [],
      "authorship_tag": "ABX9TyMwGB9nBcDtpxA6XsXpqDj7",
      "include_colab_link": true
    },
    "kernelspec": {
      "name": "python3",
      "display_name": "Python 3"
    },
    "language_info": {
      "name": "python"
    }
  },
  "cells": [
    {
      "cell_type": "markdown",
      "metadata": {
        "id": "view-in-github",
        "colab_type": "text"
      },
      "source": [
        "<a href=\"https://colab.research.google.com/github/Mengting-ting/COLab/blob/main/%E8%AE%80%E5%8F%96GitHub%E7%9A%84csv%E6%AA%94.ipynb\" target=\"_parent\"><img src=\"https://colab.research.google.com/assets/colab-badge.svg\" alt=\"Open In Colab\"/></a>"
      ]
    },
    {
      "cell_type": "code",
      "execution_count": 6,
      "metadata": {
        "id": "ybK22oOOzHyF"
      },
      "outputs": [],
      "source": [
        "import pandas as pd"
      ]
    },
    {
      "cell_type": "code",
      "source": [
        "url = \"https://raw.githubusercontent.com/Mengting-ting/COLab/main/TEJ.csv\""
      ],
      "metadata": {
        "id": "VUbb0Xd1zhmw"
      },
      "execution_count": 9,
      "outputs": []
    },
    {
      "cell_type": "code",
      "source": [
        "df = pd.read_csv(url, index_col=0)"
      ],
      "metadata": {
        "id": "7JnvsuiOz7u4"
      },
      "execution_count": 10,
      "outputs": []
    },
    {
      "cell_type": "code",
      "source": [
        "print(df.head(5))"
      ],
      "metadata": {
        "colab": {
          "base_uri": "https://localhost:8080/"
        },
        "id": "xypZjVGq0JVh",
        "outputId": "2cd4ff55-3e28-4621-c066-9cb8dcb29c85"
      },
      "execution_count": 11,
      "outputs": [
        {
          "output_type": "stream",
          "name": "stdout",
          "text": [
            "        Unnamed: 1 Unnamed: 2 Unnamed: 3 Unnamed: 4 Unnamed: 5 Unnamed: 6  \\\n",
            "累計                                                                          \n",
            "公司             年/月         季別    合併(Y/N)         月份         幣別       資產總額   \n",
            "4175 杏一    2023/03          1          Y         03        NTD  7,040,034   \n",
            "4175 杏一    2023/06          2          Y         06        NTD  7,147,290   \n",
            "4175 杏一    2023/09          3          Y         09        NTD  7,708,047   \n",
            "4175 杏一    2023/12          4          Y         12        NTD  7,629,534   \n",
            "\n",
            "        Unnamed: 7  \n",
            "累計                  \n",
            "公司          營業收入淨額  \n",
            "4175 杏一  1,753,111  \n",
            "4175 杏一  3,590,693  \n",
            "4175 杏一  5,438,501  \n",
            "4175 杏一  7,446,190  \n"
          ]
        }
      ]
    },
    {
      "cell_type": "code",
      "source": [],
      "metadata": {
        "id": "9AULEQVH0oQI"
      },
      "execution_count": null,
      "outputs": []
    }
  ]
}